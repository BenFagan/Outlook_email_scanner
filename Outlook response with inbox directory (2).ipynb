{
 "cells": [
  {
   "cell_type": "code",
   "execution_count": null,
   "metadata": {
    "collapsed": true
   },
   "outputs": [],
   "source": [
    "import docx2txt\n",
    "import os.path\n",
    "import re\n",
    "import pandas as pd\n",
    "import win32com.client"
   ]
  },
  {
   "cell_type": "code",
   "execution_count": null,
   "metadata": {
    "collapsed": true
   },
   "outputs": [],
   "source": [
    "# define a message to be passed through later\n",
    "def message(position):   # function that creates mesage to be sent for \n",
    "    msg = (\"Dear Applicant,\\n\\n\"       # date and time to be set manually\n",
    "           \" Thank you for applying for the position of \" + str(position) + \" with SomeCompany,\"\n",
    "           \" we would like to interview you at <date and time> in our offices at 15 Grand Canal Plaza.\\n\"\n",
    "           \" If this is acceptable please email your acceptance, otherwise please let us know so we may\"\n",
    "           \" schedule another time.\"\n",
    "           \" \\n\\nYours Sincerely,\\n\\n\"\n",
    "           \"Human Resurces\\n\"\n",
    "           \"SomeCompany Dublin Branch\"\n",
    "           )\n",
    "    return msg\n",
    "# other material to be defined beforehand\n",
    "df = pd.read_csv('C:\\User\\Desktop\\ Job Descriptions.csv') # remember to specify path to CSV\n",
    "patterns = pd.Series(data=df['Job Description'].tolist()) # convert job descriptions to list for matching\n",
    "position = []"
   ]
  },
  {
   "cell_type": "code",
   "execution_count": null,
   "metadata": {
    "collapsed": false
   },
   "outputs": [],
   "source": [
    "#docs: http://stackoverflow.com/questions/2043980/using-win32com-and-or-active-directory-how-can-i-access-an-email-folder-by-name\n",
    "outlook = win32com.client.Dispatch(\"Outlook.Application\")\n",
    "ons = outlook.GetNamespace(\"MAPI\")\n",
    "def findFolder(folderName,searchIn):\n",
    "    \n",
    "    lowerAccount = searchIn.Folders\n",
    "    for x in lowerAccount:\n",
    "        if x.Name == folderName:\n",
    "            print 'found folder %s'%x.Name\n",
    "            objective = x\n",
    "            return objective\n",
    "    \n",
    "        \n",
    "one = \"john.doe@somecompany.com\"\n",
    "Folder1 = findFolder(one,ons)\n",
    "Folder2 = findFolder('Inbox',Folder1)\n",
    "Folder3 = findFolder('Another Example',Folder2)\n",
    "\n",
    "messages = Folder3.Items\n",
    "#for msg in messages:\n",
    "    #print msg.Body"
   ]
  },
  {
   "cell_type": "code",
   "execution_count": null,
   "metadata": {
    "collapsed": true
   },
   "outputs": [],
   "source": [
    "# A series of functions:\n",
    "# first to get position the person is applying for - this is done by cross referencing with Excel sheet containing the job title\n",
    "def get_position(position, document, patterns):\n",
    "    for pattern in patterns:\n",
    "        if len(position) < 1: # so only one job description can be returned per person\n",
    "            document.lower() # both are converted to lower case for comparison in case of errors\n",
    "            pattern.lower()\n",
    "            match = re.search(pattern, document)  # search for a job description (from CSV) in document\n",
    "            if match == None: # to check if nothing matches the job descritption\n",
    "                return None             # return none to prevent it from passing an empty into the group function - this breaks it     \n",
    "            position = match.group(0)\n",
    "            if position:         # if position has a value\n",
    "                return position\n",
    "\n",
    "# next check the both email adress and job title are present for email\n",
    "def check_validity(email_address, position):\n",
    "    if email_address == None and position != None:\n",
    "        print 'No valid email for applicant of ', position\n",
    "        return 1 # return 1 as it won't proceed in function if it is not = 0\n",
    "    if position == None and email_address != None:\n",
    "        print 'Unable to find valid position for applicant with email ', email_address\n",
    "        return 1\n",
    "    if position == None and email_address == None:\n",
    "        return 1\n",
    "    else:\n",
    "        return 0\n",
    "\n",
    "# function to send message\n",
    "def send_message(email_address, position):\n",
    "    obj = win32com.client.Dispatch(\"Outlook.Application\") # make sure to redefine for creating a MailItem\n",
    "    olMailItem = 0x0\n",
    "    newMail = obj.CreateItem(olMailItem)\n",
    "    newMail.Subject = \"Your application to SomeCompany\" # set Re: email subject title, could also refer to job description in email\n",
    "    newMail.Body = message(position)   # function for body, to save space\n",
    "    newMail.To = email_address         # parsed from document\n",
    "    #attachment1 = \"c:\\\\mypic.jpg\"\n",
    "    #newMail.Attachments.Add(attachment1)    # in case anyone wants to add attachments\n",
    "    newMail.Send()\n",
    "    print 'Position: ', position       # print to confirm what has been sent\n",
    "    print 'SENT to: ', email_address            \n",
    "\n",
    "# Note all these are done in one function so we don't have to define 'document' \n",
    "# outside the function; a subsequent function does not recognise the 'attribute' for attachment, 'lower' etc.\n",
    "def auto_response(msg, position, patterns, count): \n",
    "    if msg.Attachments:      # so only if there are attachments               \n",
    "        for att in msg.Attachments:\n",
    "            if att.FileName.endswith('.docx'):   # As all attached C.V.s will be Word docs\n",
    "                att.SaveAsFile(r\"C:\\User\\Desktop\" + '\\\\new.docx') # save file to desktop as new.docx\n",
    "                rootdir = 'C:\\User\\desktop'\n",
    "                document = docx2txt.process(os.path.join(rootdir,\"new.docx\"))\n",
    "                # use Regular Expression to search for pattern around email address  \n",
    "                match = re.search(r'[\\w\\.-]+@[\\w\\.-]+', document) # this gets email address from document (which is one string)\n",
    "                if match == None:   # in case there is no email detected in the document\n",
    "                    return None\n",
    "                email_address = match.group() # assign to variable so it can be called upon \n",
    "                position = get_position(position, document, patterns)  # getting position\n",
    "                valid = check_validity(email_address, position)       # checking if it is valid\n",
    "                if valid == 0: # confirmation for notebook that email address has been correctly parsed and implemented\n",
    "                    send_message(email_address, position)\n",
    "                    count +=1 \n",
    "                    return count # return count +1 everytime a succesful email is sent"
   ]
  },
  {
   "cell_type": "code",
   "execution_count": null,
   "metadata": {
    "collapsed": false
   },
   "outputs": [],
   "source": [
    "# This will go through each message in inbox and apply function\n",
    "#- checking first if there is an attachment first\n",
    "# emails should be cleared out from folder before this is run again - to prevent duplication\n",
    "# as folder is only filled with emails from applicants through Mail Rules in Outlook\n",
    "count = 0\n",
    "for msg in messages:\n",
    "    count_modified = auto_response(msg, position, patterns, count)\n",
    "    \n",
    "print \"Emails sent Total: \", count_modified\n",
    "# This will show any error messages below as well as confirming when messages have been sent, for what positions and to who"
   ]
  },
  {
   "cell_type": "code",
   "execution_count": null,
   "metadata": {
    "collapsed": true
   },
   "outputs": [],
   "source": []
  }
 ],
 "metadata": {
  "anaconda-cloud": {},
  "kernelspec": {
   "display_name": "Python [Root]",
   "language": "python",
   "name": "Python [Root]"
  },
  "language_info": {
   "codemirror_mode": {
    "name": "ipython",
    "version": 2
   },
   "file_extension": ".py",
   "mimetype": "text/x-python",
   "name": "python",
   "nbconvert_exporter": "python",
   "pygments_lexer": "ipython2",
   "version": "2.7.12"
  }
 },
 "nbformat": 4,
 "nbformat_minor": 1
}
